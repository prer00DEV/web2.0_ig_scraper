{
 "cells": [
  {
   "cell_type": "code",
   "execution_count": 1,
   "outputs": [],
   "source": [
    "import pandas as pd\n",
    "import matplotlib as plt\n",
    "import seaborn as sns"
   ],
   "metadata": {
    "collapsed": false,
    "pycharm": {
     "name": "#%%\n"
    }
   }
  },
  {
   "cell_type": "code",
   "execution_count": 2,
   "outputs": [
    {
     "data": {
      "text/plain": "                                             caption   ownerFullName  \\\n0  Neuvěřitelný týden!! 🚂🚂Nejlepší softbal v celé...  Locos Břeclav   \n1  After a long season we achieved 3rd place and ...  Locos Břeclav   \n2  🔥 WE ARE STARTING TOMORROW 🔥\\n\\n- FOR THE TITL...  Locos Břeclav   \n\n     ownerUsername                                       url  commentsCount  \\\n0  breclavsoftball  https://www.instagram.com/p/Chz6fROK3iT/              0   \n1  breclavsoftball  https://www.instagram.com/p/CVLkqnyqC1Y/              7   \n2  breclavsoftball  https://www.instagram.com/p/CrBubY1AGr7/              2   \n\n                        firstComment  likesCount                 timestamp  \\\n0                                NaN         178  2022-08-28T17:13:49.000Z   \n1  Congratulations Locos,  well done         205  2021-10-18T18:56:47.000Z   \n2                                👏❤️          84  2023-04-14T18:47:16.000Z   \n\n         fullName                                      profilePicUrl  \\\n0  Locos Břeclav  https://instagram.fsjk2-1.fna.fbcdn.net/v/t51....   \n1  Locos Břeclav  https://instagram.fsjk2-1.fna.fbcdn.net/v/t51....   \n2  Locos Břeclav  https://instagram.fsjk2-1.fna.fbcdn.net/v/t51....   \n\n          username  postsCount  followersCount  followsCount  private  \\\n0  breclavsoftball         138             992           207        0   \n1  breclavsoftball         138             992           207        0   \n2  breclavsoftball         138             992           207        0   \n\n   verified  isBusinessAccount  \\\n0         0                  1   \n1         0                  1   \n2         0                  1   \n\n                                           biography postSubcategory  category  \n0  Czech fastpitch softball team 🥎\\n🥇 2022 czech ...          events       NaN  \n1  Czech fastpitch softball team 🥎\\n🥇 2022 czech ...          events       NaN  \n2  Czech fastpitch softball team 🥎\\n🥇 2022 czech ...          events       NaN  ",
      "text/html": "<div>\n<style scoped>\n    .dataframe tbody tr th:only-of-type {\n        vertical-align: middle;\n    }\n\n    .dataframe tbody tr th {\n        vertical-align: top;\n    }\n\n    .dataframe thead th {\n        text-align: right;\n    }\n</style>\n<table border=\"1\" class=\"dataframe\">\n  <thead>\n    <tr style=\"text-align: right;\">\n      <th></th>\n      <th>caption</th>\n      <th>ownerFullName</th>\n      <th>ownerUsername</th>\n      <th>url</th>\n      <th>commentsCount</th>\n      <th>firstComment</th>\n      <th>likesCount</th>\n      <th>timestamp</th>\n      <th>fullName</th>\n      <th>profilePicUrl</th>\n      <th>username</th>\n      <th>postsCount</th>\n      <th>followersCount</th>\n      <th>followsCount</th>\n      <th>private</th>\n      <th>verified</th>\n      <th>isBusinessAccount</th>\n      <th>biography</th>\n      <th>postSubcategory</th>\n      <th>category</th>\n    </tr>\n  </thead>\n  <tbody>\n    <tr>\n      <th>0</th>\n      <td>Neuvěřitelný týden!! 🚂🚂Nejlepší softbal v celé...</td>\n      <td>Locos Břeclav</td>\n      <td>breclavsoftball</td>\n      <td>https://www.instagram.com/p/Chz6fROK3iT/</td>\n      <td>0</td>\n      <td>NaN</td>\n      <td>178</td>\n      <td>2022-08-28T17:13:49.000Z</td>\n      <td>Locos Břeclav</td>\n      <td>https://instagram.fsjk2-1.fna.fbcdn.net/v/t51....</td>\n      <td>breclavsoftball</td>\n      <td>138</td>\n      <td>992</td>\n      <td>207</td>\n      <td>0</td>\n      <td>0</td>\n      <td>1</td>\n      <td>Czech fastpitch softball team 🥎\\n🥇 2022 czech ...</td>\n      <td>events</td>\n      <td>NaN</td>\n    </tr>\n    <tr>\n      <th>1</th>\n      <td>After a long season we achieved 3rd place and ...</td>\n      <td>Locos Břeclav</td>\n      <td>breclavsoftball</td>\n      <td>https://www.instagram.com/p/CVLkqnyqC1Y/</td>\n      <td>7</td>\n      <td>Congratulations Locos,  well done</td>\n      <td>205</td>\n      <td>2021-10-18T18:56:47.000Z</td>\n      <td>Locos Břeclav</td>\n      <td>https://instagram.fsjk2-1.fna.fbcdn.net/v/t51....</td>\n      <td>breclavsoftball</td>\n      <td>138</td>\n      <td>992</td>\n      <td>207</td>\n      <td>0</td>\n      <td>0</td>\n      <td>1</td>\n      <td>Czech fastpitch softball team 🥎\\n🥇 2022 czech ...</td>\n      <td>events</td>\n      <td>NaN</td>\n    </tr>\n    <tr>\n      <th>2</th>\n      <td>🔥 WE ARE STARTING TOMORROW 🔥\\n\\n- FOR THE TITL...</td>\n      <td>Locos Břeclav</td>\n      <td>breclavsoftball</td>\n      <td>https://www.instagram.com/p/CrBubY1AGr7/</td>\n      <td>2</td>\n      <td>👏❤️</td>\n      <td>84</td>\n      <td>2023-04-14T18:47:16.000Z</td>\n      <td>Locos Břeclav</td>\n      <td>https://instagram.fsjk2-1.fna.fbcdn.net/v/t51....</td>\n      <td>breclavsoftball</td>\n      <td>138</td>\n      <td>992</td>\n      <td>207</td>\n      <td>0</td>\n      <td>0</td>\n      <td>1</td>\n      <td>Czech fastpitch softball team 🥎\\n🥇 2022 czech ...</td>\n      <td>events</td>\n      <td>NaN</td>\n    </tr>\n  </tbody>\n</table>\n</div>"
     },
     "execution_count": 2,
     "metadata": {},
     "output_type": "execute_result"
    }
   ],
   "source": [
    "data = pd.read_excel('softball_dataset.xlsx')\n",
    "data.head(3)"
   ],
   "metadata": {
    "collapsed": false,
    "pycharm": {
     "name": "#%%\n"
    }
   }
  },
  {
   "cell_type": "code",
   "execution_count": 3,
   "outputs": [
    {
     "name": "stdout",
     "output_type": "stream",
     "text": [
      "<class 'pandas.core.frame.DataFrame'>\n",
      "RangeIndex: 268 entries, 0 to 267\n",
      "Data columns (total 20 columns):\n",
      " #   Column             Non-Null Count  Dtype  \n",
      "---  ------             --------------  -----  \n",
      " 0   caption            255 non-null    object \n",
      " 1   ownerFullName      268 non-null    object \n",
      " 2   ownerUsername      268 non-null    object \n",
      " 3   url                268 non-null    object \n",
      " 4   commentsCount      268 non-null    int64  \n",
      " 5   firstComment       107 non-null    object \n",
      " 6   likesCount         268 non-null    int64  \n",
      " 7   timestamp          268 non-null    object \n",
      " 8   fullName           268 non-null    object \n",
      " 9   profilePicUrl      268 non-null    object \n",
      " 10  username           268 non-null    object \n",
      " 11  postsCount         268 non-null    int64  \n",
      " 12  followersCount     268 non-null    int64  \n",
      " 13  followsCount       268 non-null    int64  \n",
      " 14  private            268 non-null    int64  \n",
      " 15  verified           268 non-null    int64  \n",
      " 16  isBusinessAccount  268 non-null    int64  \n",
      " 17  biography          268 non-null    object \n",
      " 18  postSubcategory    268 non-null    object \n",
      " 19  category           0 non-null      float64\n",
      "dtypes: float64(1), int64(8), object(11)\n",
      "memory usage: 42.0+ KB\n"
     ]
    }
   ],
   "source": [
    "data.info()"
   ],
   "metadata": {
    "collapsed": false,
    "pycharm": {
     "name": "#%%\n"
    }
   }
  },
  {
   "cell_type": "code",
   "execution_count": 4,
   "outputs": [
    {
     "data": {
      "text/plain": "caption               13\nownerFullName          0\nownerUsername          0\nurl                    0\ncommentsCount          0\nfirstComment         161\nlikesCount             0\ntimestamp              0\nfullName               0\nprofilePicUrl          0\nusername               0\npostsCount             0\nfollowersCount         0\nfollowsCount           0\nprivate                0\nverified               0\nisBusinessAccount      0\nbiography              0\npostSubcategory        0\ncategory             268\ndtype: int64"
     },
     "execution_count": 4,
     "metadata": {},
     "output_type": "execute_result"
    }
   ],
   "source": [
    "data.isna().sum()"
   ],
   "metadata": {
    "collapsed": false,
    "pycharm": {
     "name": "#%%\n"
    }
   }
  },
  {
   "cell_type": "code",
   "execution_count": 5,
   "outputs": [
    {
     "data": {
      "text/plain": "                                               caption   ownerFullName  \\\n0    Neuvěřitelný týden!! 🚂🚂Nejlepší softbal v celé...  Locos Břeclav   \n1    After a long season we achieved 3rd place and ...  Locos Břeclav   \n2    🔥 WE ARE STARTING TOMORROW 🔥\\n\\n- FOR THE TITL...  Locos Břeclav   \n3    🇨🇿Turnaj na Kanárských ostrovech, kde jsme cel...  Locos Břeclav   \n4    Od čtvrka 2.2. do soboty 4.2. se mix děvčat žá...  Locos Břeclav   \n..                                                 ...             ...   \n263  🏆 U11 | KRÁLOVÉ KAHANU\\nJedenáctky kralovaly n...     Tempo Praha   \n264  👶 NOVÉ TVÁŘE | Přijďte na Tempo vyzkoušet base...     Tempo Praha   \n265  😎 PONDĚLÍ | Všichni tvrdí, že pondělí za moc n...     Tempo Praha   \n266  🌏 WBC | Baseballový svět je na nohou, protože ...     Tempo Praha   \n267  🏠 ZPÁTKY DOMA | Je to nezvyk v jiném dresu, al...     Tempo Praha   \n\n       ownerUsername                                       url  commentsCount  \\\n0    breclavsoftball  https://www.instagram.com/p/Chz6fROK3iT/              0   \n1    breclavsoftball  https://www.instagram.com/p/CVLkqnyqC1Y/              7   \n2    breclavsoftball  https://www.instagram.com/p/CrBubY1AGr7/              2   \n3    breclavsoftball  https://www.instagram.com/p/CpuUDc2K19U/              0   \n4    breclavsoftball  https://www.instagram.com/p/CoXO4QPKqsn/              0   \n..               ...                                       ...            ...   \n263      tempo_praha  https://www.instagram.com/p/CoZSUDLrzOq/              0   \n264      tempo_praha  https://www.instagram.com/p/CoJ5VJ2rZKn/              1   \n265      tempo_praha  https://www.instagram.com/p/CnwvzSSszY2/              1   \n266      tempo_praha  https://www.instagram.com/p/CphuMYMsFDy/              0   \n267      tempo_praha  https://www.instagram.com/p/CrIff7jrgPk/              3   \n\n                          firstComment  likesCount                 timestamp  \\\n0                                 None         178  2022-08-28T17:13:49.000Z   \n1    Congratulations Locos,  well done         205  2021-10-18T18:56:47.000Z   \n2                                  👏❤️          84  2023-04-14T18:47:16.000Z   \n3                                 None         156  2023-03-13T09:12:56.000Z   \n4                                 None          94  2023-02-07T13:33:47.000Z   \n..                                 ...         ...                       ...   \n263                               None          73  2023-02-08T08:42:16.000Z   \n264                                 👶😍          49  2023-02-02T09:15:22.000Z   \n265                                💪⚾️         100  2023-01-23T14:51:05.000Z   \n266                               None         119  2023-03-08T11:51:13.000Z   \n267                                🔥🔥🔥         174  2023-04-17T09:44:35.000Z   \n\n           fullName                                      profilePicUrl  \\\n0    Locos Břeclav  https://instagram.fsjk2-1.fna.fbcdn.net/v/t51....   \n1    Locos Břeclav  https://instagram.fsjk2-1.fna.fbcdn.net/v/t51....   \n2    Locos Břeclav  https://instagram.fsjk2-1.fna.fbcdn.net/v/t51....   \n3    Locos Břeclav  https://instagram.fsjk2-1.fna.fbcdn.net/v/t51....   \n4    Locos Břeclav  https://instagram.fsjk2-1.fna.fbcdn.net/v/t51....   \n..              ...                                                ...   \n263     Tempo Praha  https://scontent-lax3-1.cdninstagram.com/v/t51...   \n264     Tempo Praha  https://scontent-lax3-1.cdninstagram.com/v/t51...   \n265     Tempo Praha  https://scontent-lax3-1.cdninstagram.com/v/t51...   \n266     Tempo Praha  https://scontent-lax3-1.cdninstagram.com/v/t51...   \n267     Tempo Praha  https://scontent-lax3-1.cdninstagram.com/v/t51...   \n\n            username  postsCount  followersCount  followsCount  private  \\\n0    breclavsoftball         138             992           207        0   \n1    breclavsoftball         138             992           207        0   \n2    breclavsoftball         138             992           207        0   \n3    breclavsoftball         138             992           207        0   \n4    breclavsoftball         138             992           207        0   \n..               ...         ...             ...           ...      ...   \n263      tempo_praha        1006            2478          2292        0   \n264      tempo_praha        1006            2478          2292        0   \n265      tempo_praha        1006            2478          2292        0   \n266      tempo_praha        1006            2478          2292        0   \n267      tempo_praha        1006            2478          2292        0   \n\n     verified  isBusinessAccount  \\\n0           0                  1   \n1           0                  1   \n2           0                  1   \n3           0                  1   \n4           0                  1   \n..        ...                ...   \n263         0                  1   \n264         0                  1   \n265         0                  1   \n266         0                  1   \n267         0                  1   \n\n                                             biography postSubcategory  \\\n0    Czech fastpitch softball team 🥎\\n🥇 2022 czech ...          events   \n1    Czech fastpitch softball team 🥎\\n🥇 2022 czech ...          events   \n2    Czech fastpitch softball team 🥎\\n🥇 2022 czech ...          events   \n3    Czech fastpitch softball team 🥎\\n🥇 2022 czech ...          events   \n4    Czech fastpitch softball team 🥎\\n🥇 2022 czech ...          events   \n..                                                 ...             ...   \n263  ⚾ Czech baseball & softball club\\n🌆 Based in P...          events   \n264  ⚾ Czech baseball & softball club\\n🌆 Based in P...   communication   \n265  ⚾ Czech baseball & softball club\\n🌆 Based in P...   communication   \n266  ⚾ Czech baseball & softball club\\n🌆 Based in P...   communication   \n267  ⚾ Czech baseball & softball club\\n🌆 Based in P...      promotions   \n\n    category  \n0       None  \n1       None  \n2       None  \n3       None  \n4       None  \n..       ...  \n263     None  \n264     None  \n265     None  \n266     None  \n267     None  \n\n[268 rows x 20 columns]",
      "text/html": "<div>\n<style scoped>\n    .dataframe tbody tr th:only-of-type {\n        vertical-align: middle;\n    }\n\n    .dataframe tbody tr th {\n        vertical-align: top;\n    }\n\n    .dataframe thead th {\n        text-align: right;\n    }\n</style>\n<table border=\"1\" class=\"dataframe\">\n  <thead>\n    <tr style=\"text-align: right;\">\n      <th></th>\n      <th>caption</th>\n      <th>ownerFullName</th>\n      <th>ownerUsername</th>\n      <th>url</th>\n      <th>commentsCount</th>\n      <th>firstComment</th>\n      <th>likesCount</th>\n      <th>timestamp</th>\n      <th>fullName</th>\n      <th>profilePicUrl</th>\n      <th>username</th>\n      <th>postsCount</th>\n      <th>followersCount</th>\n      <th>followsCount</th>\n      <th>private</th>\n      <th>verified</th>\n      <th>isBusinessAccount</th>\n      <th>biography</th>\n      <th>postSubcategory</th>\n      <th>category</th>\n    </tr>\n  </thead>\n  <tbody>\n    <tr>\n      <th>0</th>\n      <td>Neuvěřitelný týden!! 🚂🚂Nejlepší softbal v celé...</td>\n      <td>Locos Břeclav</td>\n      <td>breclavsoftball</td>\n      <td>https://www.instagram.com/p/Chz6fROK3iT/</td>\n      <td>0</td>\n      <td>None</td>\n      <td>178</td>\n      <td>2022-08-28T17:13:49.000Z</td>\n      <td>Locos Břeclav</td>\n      <td>https://instagram.fsjk2-1.fna.fbcdn.net/v/t51....</td>\n      <td>breclavsoftball</td>\n      <td>138</td>\n      <td>992</td>\n      <td>207</td>\n      <td>0</td>\n      <td>0</td>\n      <td>1</td>\n      <td>Czech fastpitch softball team 🥎\\n🥇 2022 czech ...</td>\n      <td>events</td>\n      <td>None</td>\n    </tr>\n    <tr>\n      <th>1</th>\n      <td>After a long season we achieved 3rd place and ...</td>\n      <td>Locos Břeclav</td>\n      <td>breclavsoftball</td>\n      <td>https://www.instagram.com/p/CVLkqnyqC1Y/</td>\n      <td>7</td>\n      <td>Congratulations Locos,  well done</td>\n      <td>205</td>\n      <td>2021-10-18T18:56:47.000Z</td>\n      <td>Locos Břeclav</td>\n      <td>https://instagram.fsjk2-1.fna.fbcdn.net/v/t51....</td>\n      <td>breclavsoftball</td>\n      <td>138</td>\n      <td>992</td>\n      <td>207</td>\n      <td>0</td>\n      <td>0</td>\n      <td>1</td>\n      <td>Czech fastpitch softball team 🥎\\n🥇 2022 czech ...</td>\n      <td>events</td>\n      <td>None</td>\n    </tr>\n    <tr>\n      <th>2</th>\n      <td>🔥 WE ARE STARTING TOMORROW 🔥\\n\\n- FOR THE TITL...</td>\n      <td>Locos Břeclav</td>\n      <td>breclavsoftball</td>\n      <td>https://www.instagram.com/p/CrBubY1AGr7/</td>\n      <td>2</td>\n      <td>👏❤️</td>\n      <td>84</td>\n      <td>2023-04-14T18:47:16.000Z</td>\n      <td>Locos Břeclav</td>\n      <td>https://instagram.fsjk2-1.fna.fbcdn.net/v/t51....</td>\n      <td>breclavsoftball</td>\n      <td>138</td>\n      <td>992</td>\n      <td>207</td>\n      <td>0</td>\n      <td>0</td>\n      <td>1</td>\n      <td>Czech fastpitch softball team 🥎\\n🥇 2022 czech ...</td>\n      <td>events</td>\n      <td>None</td>\n    </tr>\n    <tr>\n      <th>3</th>\n      <td>🇨🇿Turnaj na Kanárských ostrovech, kde jsme cel...</td>\n      <td>Locos Břeclav</td>\n      <td>breclavsoftball</td>\n      <td>https://www.instagram.com/p/CpuUDc2K19U/</td>\n      <td>0</td>\n      <td>None</td>\n      <td>156</td>\n      <td>2023-03-13T09:12:56.000Z</td>\n      <td>Locos Břeclav</td>\n      <td>https://instagram.fsjk2-1.fna.fbcdn.net/v/t51....</td>\n      <td>breclavsoftball</td>\n      <td>138</td>\n      <td>992</td>\n      <td>207</td>\n      <td>0</td>\n      <td>0</td>\n      <td>1</td>\n      <td>Czech fastpitch softball team 🥎\\n🥇 2022 czech ...</td>\n      <td>events</td>\n      <td>None</td>\n    </tr>\n    <tr>\n      <th>4</th>\n      <td>Od čtvrka 2.2. do soboty 4.2. se mix děvčat žá...</td>\n      <td>Locos Břeclav</td>\n      <td>breclavsoftball</td>\n      <td>https://www.instagram.com/p/CoXO4QPKqsn/</td>\n      <td>0</td>\n      <td>None</td>\n      <td>94</td>\n      <td>2023-02-07T13:33:47.000Z</td>\n      <td>Locos Břeclav</td>\n      <td>https://instagram.fsjk2-1.fna.fbcdn.net/v/t51....</td>\n      <td>breclavsoftball</td>\n      <td>138</td>\n      <td>992</td>\n      <td>207</td>\n      <td>0</td>\n      <td>0</td>\n      <td>1</td>\n      <td>Czech fastpitch softball team 🥎\\n🥇 2022 czech ...</td>\n      <td>events</td>\n      <td>None</td>\n    </tr>\n    <tr>\n      <th>...</th>\n      <td>...</td>\n      <td>...</td>\n      <td>...</td>\n      <td>...</td>\n      <td>...</td>\n      <td>...</td>\n      <td>...</td>\n      <td>...</td>\n      <td>...</td>\n      <td>...</td>\n      <td>...</td>\n      <td>...</td>\n      <td>...</td>\n      <td>...</td>\n      <td>...</td>\n      <td>...</td>\n      <td>...</td>\n      <td>...</td>\n      <td>...</td>\n      <td>...</td>\n    </tr>\n    <tr>\n      <th>263</th>\n      <td>🏆 U11 | KRÁLOVÉ KAHANU\\nJedenáctky kralovaly n...</td>\n      <td>Tempo Praha</td>\n      <td>tempo_praha</td>\n      <td>https://www.instagram.com/p/CoZSUDLrzOq/</td>\n      <td>0</td>\n      <td>None</td>\n      <td>73</td>\n      <td>2023-02-08T08:42:16.000Z</td>\n      <td>Tempo Praha</td>\n      <td>https://scontent-lax3-1.cdninstagram.com/v/t51...</td>\n      <td>tempo_praha</td>\n      <td>1006</td>\n      <td>2478</td>\n      <td>2292</td>\n      <td>0</td>\n      <td>0</td>\n      <td>1</td>\n      <td>⚾ Czech baseball &amp; softball club\\n🌆 Based in P...</td>\n      <td>events</td>\n      <td>None</td>\n    </tr>\n    <tr>\n      <th>264</th>\n      <td>👶 NOVÉ TVÁŘE | Přijďte na Tempo vyzkoušet base...</td>\n      <td>Tempo Praha</td>\n      <td>tempo_praha</td>\n      <td>https://www.instagram.com/p/CoJ5VJ2rZKn/</td>\n      <td>1</td>\n      <td>👶😍</td>\n      <td>49</td>\n      <td>2023-02-02T09:15:22.000Z</td>\n      <td>Tempo Praha</td>\n      <td>https://scontent-lax3-1.cdninstagram.com/v/t51...</td>\n      <td>tempo_praha</td>\n      <td>1006</td>\n      <td>2478</td>\n      <td>2292</td>\n      <td>0</td>\n      <td>0</td>\n      <td>1</td>\n      <td>⚾ Czech baseball &amp; softball club\\n🌆 Based in P...</td>\n      <td>communication</td>\n      <td>None</td>\n    </tr>\n    <tr>\n      <th>265</th>\n      <td>😎 PONDĚLÍ | Všichni tvrdí, že pondělí za moc n...</td>\n      <td>Tempo Praha</td>\n      <td>tempo_praha</td>\n      <td>https://www.instagram.com/p/CnwvzSSszY2/</td>\n      <td>1</td>\n      <td>💪⚾️</td>\n      <td>100</td>\n      <td>2023-01-23T14:51:05.000Z</td>\n      <td>Tempo Praha</td>\n      <td>https://scontent-lax3-1.cdninstagram.com/v/t51...</td>\n      <td>tempo_praha</td>\n      <td>1006</td>\n      <td>2478</td>\n      <td>2292</td>\n      <td>0</td>\n      <td>0</td>\n      <td>1</td>\n      <td>⚾ Czech baseball &amp; softball club\\n🌆 Based in P...</td>\n      <td>communication</td>\n      <td>None</td>\n    </tr>\n    <tr>\n      <th>266</th>\n      <td>🌏 WBC | Baseballový svět je na nohou, protože ...</td>\n      <td>Tempo Praha</td>\n      <td>tempo_praha</td>\n      <td>https://www.instagram.com/p/CphuMYMsFDy/</td>\n      <td>0</td>\n      <td>None</td>\n      <td>119</td>\n      <td>2023-03-08T11:51:13.000Z</td>\n      <td>Tempo Praha</td>\n      <td>https://scontent-lax3-1.cdninstagram.com/v/t51...</td>\n      <td>tempo_praha</td>\n      <td>1006</td>\n      <td>2478</td>\n      <td>2292</td>\n      <td>0</td>\n      <td>0</td>\n      <td>1</td>\n      <td>⚾ Czech baseball &amp; softball club\\n🌆 Based in P...</td>\n      <td>communication</td>\n      <td>None</td>\n    </tr>\n    <tr>\n      <th>267</th>\n      <td>🏠 ZPÁTKY DOMA | Je to nezvyk v jiném dresu, al...</td>\n      <td>Tempo Praha</td>\n      <td>tempo_praha</td>\n      <td>https://www.instagram.com/p/CrIff7jrgPk/</td>\n      <td>3</td>\n      <td>🔥🔥🔥</td>\n      <td>174</td>\n      <td>2023-04-17T09:44:35.000Z</td>\n      <td>Tempo Praha</td>\n      <td>https://scontent-lax3-1.cdninstagram.com/v/t51...</td>\n      <td>tempo_praha</td>\n      <td>1006</td>\n      <td>2478</td>\n      <td>2292</td>\n      <td>0</td>\n      <td>0</td>\n      <td>1</td>\n      <td>⚾ Czech baseball &amp; softball club\\n🌆 Based in P...</td>\n      <td>promotions</td>\n      <td>None</td>\n    </tr>\n  </tbody>\n</table>\n<p>268 rows × 20 columns</p>\n</div>"
     },
     "execution_count": 5,
     "metadata": {},
     "output_type": "execute_result"
    }
   ],
   "source": [
    "data.fillna('None')"
   ],
   "metadata": {
    "collapsed": false,
    "pycharm": {
     "name": "#%%\n"
    }
   }
  },
  {
   "cell_type": "code",
   "execution_count": 24,
   "outputs": [
    {
     "data": {
      "text/plain": "                                             caption   ownerFullName  \\\n0  Neuvěřitelný týden!! 🚂🚂Nejlepší softbal v celé...  Locos Břeclav   \n1  After a long season we achieved 3rd place and ...  Locos Břeclav   \n2  🔥 WE ARE STARTING TOMORROW 🔥\\n\\n- FOR THE TITL...  Locos Břeclav   \n\n     ownerUsername                                       url  commentsCount  \\\n0  breclavsoftball  https://www.instagram.com/p/Chz6fROK3iT/              0   \n1  breclavsoftball  https://www.instagram.com/p/CVLkqnyqC1Y/              7   \n2  breclavsoftball  https://www.instagram.com/p/CrBubY1AGr7/              2   \n\n                        firstComment  likesCount                 timestamp  \\\n0                                NaN         178  2022-08-28T17:13:49.000Z   \n1  Congratulations Locos,  well done         205  2021-10-18T18:56:47.000Z   \n2                                👏❤️          84  2023-04-14T18:47:16.000Z   \n\n         fullName                                      profilePicUrl  \\\n0  Locos Břeclav  https://instagram.fsjk2-1.fna.fbcdn.net/v/t51....   \n1  Locos Břeclav  https://instagram.fsjk2-1.fna.fbcdn.net/v/t51....   \n2  Locos Břeclav  https://instagram.fsjk2-1.fna.fbcdn.net/v/t51....   \n\n          username  postsCount  followersCount  followsCount  private  \\\n0  breclavsoftball         138             992           207        0   \n1  breclavsoftball         138             992           207        0   \n2  breclavsoftball         138             992           207        0   \n\n   verified  isBusinessAccount  \\\n0         0                  1   \n1         0                  1   \n2         0                  1   \n\n                                           biography postSubcategory  \\\n0  Czech fastpitch softball team 🥎\\n🥇 2022 czech ...          events   \n1  Czech fastpitch softball team 🥎\\n🥇 2022 czech ...          events   \n2  Czech fastpitch softball team 🥎\\n🥇 2022 czech ...          events   \n\n      category  \n0  interactive  \n1  interactive  \n2  interactive  ",
      "text/html": "<div>\n<style scoped>\n    .dataframe tbody tr th:only-of-type {\n        vertical-align: middle;\n    }\n\n    .dataframe tbody tr th {\n        vertical-align: top;\n    }\n\n    .dataframe thead th {\n        text-align: right;\n    }\n</style>\n<table border=\"1\" class=\"dataframe\">\n  <thead>\n    <tr style=\"text-align: right;\">\n      <th></th>\n      <th>caption</th>\n      <th>ownerFullName</th>\n      <th>ownerUsername</th>\n      <th>url</th>\n      <th>commentsCount</th>\n      <th>firstComment</th>\n      <th>likesCount</th>\n      <th>timestamp</th>\n      <th>fullName</th>\n      <th>profilePicUrl</th>\n      <th>username</th>\n      <th>postsCount</th>\n      <th>followersCount</th>\n      <th>followsCount</th>\n      <th>private</th>\n      <th>verified</th>\n      <th>isBusinessAccount</th>\n      <th>biography</th>\n      <th>postSubcategory</th>\n      <th>category</th>\n    </tr>\n  </thead>\n  <tbody>\n    <tr>\n      <th>0</th>\n      <td>Neuvěřitelný týden!! 🚂🚂Nejlepší softbal v celé...</td>\n      <td>Locos Břeclav</td>\n      <td>breclavsoftball</td>\n      <td>https://www.instagram.com/p/Chz6fROK3iT/</td>\n      <td>0</td>\n      <td>NaN</td>\n      <td>178</td>\n      <td>2022-08-28T17:13:49.000Z</td>\n      <td>Locos Břeclav</td>\n      <td>https://instagram.fsjk2-1.fna.fbcdn.net/v/t51....</td>\n      <td>breclavsoftball</td>\n      <td>138</td>\n      <td>992</td>\n      <td>207</td>\n      <td>0</td>\n      <td>0</td>\n      <td>1</td>\n      <td>Czech fastpitch softball team 🥎\\n🥇 2022 czech ...</td>\n      <td>events</td>\n      <td>interactive</td>\n    </tr>\n    <tr>\n      <th>1</th>\n      <td>After a long season we achieved 3rd place and ...</td>\n      <td>Locos Břeclav</td>\n      <td>breclavsoftball</td>\n      <td>https://www.instagram.com/p/CVLkqnyqC1Y/</td>\n      <td>7</td>\n      <td>Congratulations Locos,  well done</td>\n      <td>205</td>\n      <td>2021-10-18T18:56:47.000Z</td>\n      <td>Locos Břeclav</td>\n      <td>https://instagram.fsjk2-1.fna.fbcdn.net/v/t51....</td>\n      <td>breclavsoftball</td>\n      <td>138</td>\n      <td>992</td>\n      <td>207</td>\n      <td>0</td>\n      <td>0</td>\n      <td>1</td>\n      <td>Czech fastpitch softball team 🥎\\n🥇 2022 czech ...</td>\n      <td>events</td>\n      <td>interactive</td>\n    </tr>\n    <tr>\n      <th>2</th>\n      <td>🔥 WE ARE STARTING TOMORROW 🔥\\n\\n- FOR THE TITL...</td>\n      <td>Locos Břeclav</td>\n      <td>breclavsoftball</td>\n      <td>https://www.instagram.com/p/CrBubY1AGr7/</td>\n      <td>2</td>\n      <td>👏❤️</td>\n      <td>84</td>\n      <td>2023-04-14T18:47:16.000Z</td>\n      <td>Locos Břeclav</td>\n      <td>https://instagram.fsjk2-1.fna.fbcdn.net/v/t51....</td>\n      <td>breclavsoftball</td>\n      <td>138</td>\n      <td>992</td>\n      <td>207</td>\n      <td>0</td>\n      <td>0</td>\n      <td>1</td>\n      <td>Czech fastpitch softball team 🥎\\n🥇 2022 czech ...</td>\n      <td>events</td>\n      <td>interactive</td>\n    </tr>\n  </tbody>\n</table>\n</div>"
     },
     "execution_count": 24,
     "metadata": {},
     "output_type": "execute_result"
    }
   ],
   "source": [
    "#create categories from subcategories invitations, promotions, communication, and events\n",
    "vals_to_replace = {'invitations':'informational', 'promotions':'promotional', 'communication':'informational', 'events':'interactive'}\n",
    "data['category'] = data['postSubcategory'].map(vals_to_replace)\n",
    "data.head(3)"
   ],
   "metadata": {
    "collapsed": false,
    "pycharm": {
     "name": "#%%\n"
    }
   }
  },
  {
   "cell_type": "code",
   "execution_count": null,
   "outputs": [],
   "source": [
    "#table of most followed profiles"
   ],
   "metadata": {
    "collapsed": false,
    "pycharm": {
     "name": "#%%\n"
    }
   }
  },
  {
   "cell_type": "code",
   "execution_count": 23,
   "outputs": [
    {
     "data": {
      "text/plain": "<AxesSubplot:xlabel='fullName', ylabel='followersCount'>"
     },
     "execution_count": 23,
     "metadata": {},
     "output_type": "execute_result"
    },
    {
     "name": "stderr",
     "output_type": "stream",
     "text": [
      "/Users/katerinaremesova/.conda/envs/conda/lib/python3.10/site-packages/IPython/core/pylabtools.py:151: UserWarning: Glyph 129358 (\\N{SOFTBALL}) missing from current font.\n",
      "  fig.canvas.print_figure(bytes_io, **kw)\n"
     ]
    },
    {
     "data": {
      "text/plain": "<Figure size 432x288 with 1 Axes>",
      "image/png": "[encoded data removed]"
     },
     "metadata": {
      "needs_background": "light"
     },
     "output_type": "display_data"
    }
   ],
   "source": [
    "# 'followsCount', 'postsCount'\n",
    "\n",
    "# barplot Number of followers per profile\n",
    "data_subset = data[['fullName', 'followersCount']]\n",
    "sns.barplot(data=data_subset, x=\"fullName\", y=\"followersCount\")"
   ],
   "metadata": {
    "collapsed": false,
    "pycharm": {
     "name": "#%%\n"
    }
   }
  },
  {
   "cell_type": "code",
   "execution_count": 24,
   "outputs": [],
   "source": [
    "# barplot number of following accounts per profile"
   ],
   "metadata": {
    "collapsed": false,
    "pycharm": {
     "name": "#%%\n"
    }
   }
  },
  {
   "cell_type": "code",
   "execution_count": 26,
   "outputs": [
    {
     "data": {
      "text/plain": "<bound method Series.unique of 0      1\n1      1\n2      1\n3      1\n4      1\n      ..\n263    1\n264    1\n265    1\n266    1\n267    1\nName: isBusinessAccount, Length: 268, dtype: int64>"
     },
     "execution_count": 26,
     "metadata": {},
     "output_type": "execute_result"
    }
   ],
   "source": [
    "data.isBusinessAccount.unique"
   ],
   "metadata": {
    "collapsed": false,
    "pycharm": {
     "name": "#%%\n"
    }
   }
  },
  {
   "cell_type": "code",
   "execution_count": null,
   "outputs": [],
   "source": [],
   "metadata": {
    "collapsed": false,
    "pycharm": {
     "name": "#%%\n"
    }
   }
  },
  {
   "cell_type": "code",
   "execution_count": null,
   "metadata": {},
   "outputs": [],
   "source": [
    "data.info()"
   ]
  },
  {
   "cell_type": "code",
   "execution_count": null,
   "metadata": {},
   "outputs": [],
   "source": [
    "data.isna().sum()"
   ]
  },
  {
   "cell_type": "code",
   "execution_count": null,
   "metadata": {},
   "outputs": [],
   "source": [
    "data.fillna('None')"
   ]
  },
  {
   "cell_type": "code",
   "execution_count": null,
   "metadata": {},
   "outputs": [],
   "source": [
    "#table of most followed profiles\n",
    "data_subset = data[['fullName', 'followersCount', 'followsCount', 'postsCount']]\n",
    "data_subset.drop_duplicates()\n",
    "data_subset"
   ]
  },
  {
   "cell_type": "code",
   "execution_count": null,
   "metadata": {},
   "outputs": [],
   "source": []
  },
  {
   "cell_type": "code",
   "execution_count": null,
   "metadata": {},
   "outputs": [],
   "source": []
  }
 ],
 "metadata": {
  "language_info": {
   "name": "python"
  },
  "orig_nbformat": 4
 },
 "nbformat": 4,
 "nbformat_minor": 2
}